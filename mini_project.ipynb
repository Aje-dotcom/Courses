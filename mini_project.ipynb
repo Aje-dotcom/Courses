{
  "cells": [
    {
      "cell_type": "markdown",
      "metadata": {
        "id": "view-in-github",
        "colab_type": "text"
      },
      "source": [
        "<a href=\"https://colab.research.google.com/github/Aje-dotcom/Courses/blob/main/mini_project.ipynb\" target=\"_parent\"><img src=\"https://colab.research.google.com/assets/colab-badge.svg\" alt=\"Open In Colab\"/></a>"
      ]
    },
    {
      "cell_type": "code",
      "execution_count": null,
      "id": "9d87a6cf",
      "metadata": {
        "id": "9d87a6cf"
      },
      "outputs": [],
      "source": [
        "## WELCOME TO MY FIRST MINI-PROJECT ON darey.io (MODULE 1). BY AJEMBA EKENE EMMANUEL"
      ]
    },
    {
      "cell_type": "markdown",
      "id": "69d4dd84",
      "metadata": {
        "id": "69d4dd84"
      },
      "source": [
        "##\tQuiz Game Task:  \n",
        "# Python Quiz Game\n",
        "Here's a complete quiz game with 5 questions that tracks the user's score:\n",
        "This is a quiz game made up of 5 questions with user entery and the final score is calculated.\n",
        "This was created allows users to answer 5 questions interactively and it calculates final score based on correct answers.\n",
        "Acceptance Criteria:\n",
        "• The questions and answers are stored in an easily modifiable structure where the user can input answers, and responses are case-insensitive. Correct answers increase the score, and incorrect answers\n"
      ]
    },
    {
      "cell_type": "code",
      "execution_count": null,
      "id": "43a5ae47",
      "metadata": {
        "id": "43a5ae47",
        "outputId": "0f7a5ceb-8e44-45d0-b196-0dcd588df059"
      },
      "outputs": [
        {
          "name": "stdout",
          "output_type": "stream",
          "text": [
            "Welcome to the Python Quiz Game!\n",
            "Answer the following 5 questions. Let's see how many you can get right!\n",
            "\n",
            "What does the acronym API stand for? Application Programming interface\n",
            "Correct!\n",
            "\n",
            "Which programming language is used to create web pages and web applications?  Java   Python   JavaScript   Corel Draw javascript\n",
            "Correct!\n",
            "\n",
            "Which of this services is provided by Darey.io ? @askdavina   Microsoft Azure   Google   Ransomware @askdavina\n",
            "Correct!\n",
            "\n",
            "In which year did World War II end? 1945\n",
            "Correct!\n",
            "\n",
            "What is the chemical symbol for gold? au\n",
            "Correct!\n",
            "\n",
            "\n",
            "Quiz Game completed!\n",
            "Your final score is: 5/5\n",
            "That's 100% correct!\n",
            "Perfect score! You're a genius!\n"
          ]
        }
      ],
      "source": [
        "# Here's a complete quiz game with 5 questions that tracks the user's score:\n",
        "def run_quiz():\n",
        "    print(\"Welcome to the Python Quiz Game!\")\n",
        "    print(\"Answer the following 5 questions. Let's see how many you can get right!\\n\")\n",
        "\n",
        "    # Quiz questions and answers stored in a list of dictionaries\n",
        "    quiz_questions = [ #Contains exactly 5 questions stored in an easily modifiable list of dictionaries\n",
        "        {\n",
        "            \"question\": \"What does the acronym API stand for?\",\n",
        "            \"answer\": \"Application Programming Interface\"\n",
        "        },\n",
        "        {\n",
        "            \"question\": \"Which programming language is used to create web pages and web applications?  Java   Python   JavaScript   Corel Draw\",\n",
        "            \"answer\": \"Javascript\"\n",
        "        },\n",
        "        {\n",
        "            \"question\": \"Which of this services is provided by Darey.io ? @askdavina   Microsoft Azure   Google   Ransomware\",\n",
        "            \"answer\": \"@askdavina\"\n",
        "        },\n",
        "        {\n",
        "            \"question\": \"In which year did World War II end?\",\n",
        "            \"answer\": \"1945\"\n",
        "        },\n",
        "        {\n",
        "            \"question\": \"What is the chemical symbol for gold?\",\n",
        "            \"answer\": \"Au\"\n",
        "        }\n",
        "    ]\n",
        "\n",
        "    score = 0\n",
        "\n",
        "    # Ask each question\n",
        "    for question_data in quiz_questions:\n",
        "        user_answer = input(question_data[\"question\"] + \" \").strip()\n",
        "\n",
        "        # Case-insensitive comparison\n",
        "        if user_answer.lower() == question_data[\"answer\"].lower():\n",
        "            print(\"Correct!\\n\")\n",
        "            score += 1\n",
        "        else:\n",
        "            print(f\"Wrong! The correct answer is {question_data['answer']}.\\n\")\n",
        "\n",
        "    # Displaying final results\n",
        "    print(\"\\nQuiz Game completed!\")\n",
        "    print(f\"Your final score is: {score}/5\")\n",
        "    print(f\"That's {score * 20}% correct!\")\n",
        "\n",
        "    # Optional encouragement based on score\n",
        "    if score == 5:\n",
        "        print(\"Perfect score! You're a genius!\")\n",
        "    elif score >= 3:\n",
        "        print(\"Good job!\")\n",
        "    else:\n",
        "        print(\"Better luck next time!\")\n",
        "\n",
        "# Run the quiz\n",
        "run_quiz()"
      ]
    },
    {
      "cell_type": "markdown",
      "id": "3319ad26",
      "metadata": {
        "id": "3319ad26"
      },
      "source": [
        "<h5>As you can see the quiz game has been completed with some highlighted features:</h5>\n",
        "    \n",
        "* Contains exactly 5 questions stored in an easily modifiable list of dictionaries\n",
        "\n",
        "* Questions cover various topics (Tech trivia, history, chemistry)\n",
        "\n",
        "* Handles user input in a case-insensitive way\n",
        "\n",
        "* Tracks and displays the final score (out of 5)\n",
        "\n",
        "* Provides immediate feedback for each answer\n",
        "\n",
        "* Shows percentage correct at the end\n",
        "\n",
        "* Includes encouraging messages based on performance\n",
        "\n",
        "* The structure makes it easy to:\n",
        "* Add more questions by expanding the list\n",
        "* Modify existing questions\n",
        "*  Change the scoring system if needed and\n",
        "*  Add different question types in the future"
      ]
    },
    {
      "cell_type": "markdown",
      "id": "436a68d1",
      "metadata": {
        "id": "436a68d1"
      },
      "source": [
        "## 2\tNumber Swapping Task in Python\n",
        "###\tTask: Swapping two numbers in Python.\n",
        "A Python Python's tuple unpacking for swapping program that swaps two numbers entered by the user as input, displays the values before and after swapping.\n",
        "The program accepts two numbers as input from the user.\n",
        "Error value messages displays for invalid (non-numeric) input and it doesn't require a temp variable.\n",
        "\n",
        "Here's a Python program that swaps two numbers using tuple unpacking, with proper input validation and display of values before and after swapping:"
      ]
    },
    {
      "cell_type": "code",
      "execution_count": null,
      "id": "8df60f07",
      "metadata": {
        "id": "8df60f07",
        "outputId": "b876674c-1b43-4b6e-93d9-68118ee4e562"
      },
      "outputs": [
        {
          "name": "stdout",
          "output_type": "stream",
          "text": [
            "Number Swapping Program\n",
            "-----------------------\n",
            "Enter the first number: 10\n",
            "Enter the second number: 20\n",
            "\n",
            "Before swapping:\n",
            "First number: 10.0\n",
            "Second number: 20.0\n",
            "\n",
            "After swapping:\n",
            "First number: 20.0\n",
            "Second number: 10.0\n"
          ]
        },
        {
          "data": {
            "text/plain": [
              "\"Here's a Python program that swaps two numbers using tuple unpacking, with proper input validation and display of values before and after swapping:\""
            ]
          },
          "execution_count": 6,
          "metadata": {},
          "output_type": "execute_result"
        }
      ],
      "source": [
        "# Number Swapping Task in Python\n",
        "def swap_numbers():\n",
        "    print(\"Number Swapping Program\")\n",
        "    print(\"-----------------------\")\n",
        "\n",
        "    try:\n",
        "        # Get input from user\n",
        "        num1 = float(input(\"Enter the first number: \"))\n",
        "        num2 = float(input(\"Enter the second number: \"))\n",
        "\n",
        "        # Display numbers before swapping\n",
        "        print(f\"\\nBefore swapping:\")\n",
        "        print(f\"First number: {num1}\")\n",
        "        print(f\"Second number: {num2}\")\n",
        "\n",
        "        # Swap using tuple unpacking\n",
        "        num1, num2 = num2, num1\n",
        "\n",
        "        # Display numbers after swapping\n",
        "        print(f\"\\nAfter swapping:\")\n",
        "        print(f\"First number: {num1}\")\n",
        "        print(f\"Second number: {num2}\")\n",
        "\n",
        "    except ValueError:\n",
        "        print(\"\\nError: Please enter valid numbers only.\")\n",
        "\n",
        "# Run the program\n",
        "swap_numbers()\n",
        "'''Here's a Python program that swaps two numbers using tuple unpacking, with proper input validation and display of values before and after swapping:'''"
      ]
    },
    {
      "cell_type": "markdown",
      "id": "854ebe9a",
      "metadata": {
        "id": "854ebe9a"
      },
      "source": [
        "# Here's a Python program output that swaps two numbers using tuple unpacking,\n",
        "with proper input validation, I was able to show chunk of code that\n",
        "* Accepts two numbers as input from the user\n",
        "\n",
        "* Displays the values before and after swapping\n",
        "\n",
        "* Uses Python's tuple unpacking (num1, num2 = num2, num1) for swapping\n",
        "\n",
        "* Handles invalid input (non-numeric) with a clear error message\n",
        "\n",
        "* Swaps values without using a temporary variable\n",
        "\n",
        "* Works with both integers and floating-point numbers\n",
        "\n",
        "* and display of values before and after swapping:"
      ]
    },
    {
      "cell_type": "markdown",
      "id": "b14ef16b",
      "metadata": {
        "id": "b14ef16b"
      },
      "source": [
        "## 3 Prime/ Armstrong/ Palindrome Number Identifier\n",
        "Task: To write a code to determine the value entered is a Prime number, an\n",
        "Armstrong Number or a Palindrome number and displays the results accordingly."
      ]
    },
    {
      "cell_type": "code",
      "execution_count": null,
      "id": "5726c3d9",
      "metadata": {
        "id": "5726c3d9",
        "outputId": "1ae2a420-a8c9-4ec6-f427-29ba0593d275"
      },
      "outputs": [
        {
          "name": "stdout",
          "output_type": "stream",
          "text": [
            "Number Identifier Program\n",
            "-------------------------\n",
            "Checks if a number is Prime, Armstrong, or Palindrome\n",
            "\n",
            "Enter a positive integer: 3\n",
            "\n",
            "3 is: Prime, Armstrong, Palindrome\n"
          ]
        },
        {
          "data": {
            "text/plain": [
              "\" Here's a Python program that checks if a number is prime, Armstrong, or palindrome\""
            ]
          },
          "execution_count": 7,
          "metadata": {},
          "output_type": "execute_result"
        }
      ],
      "source": [
        "#Prime, Armstrong, and Palindrome Number Identifier\n",
        "def is_prime(n):\n",
        "    \"\"\"Check if a number is prime\"\"\"\n",
        "    if n <= 1:\n",
        "        return False\n",
        "    if n <= 3:\n",
        "        return True\n",
        "    if n % 2 == 0 or n % 3 == 0:\n",
        "        return False\n",
        "    i = 5\n",
        "    while i * i <= n:\n",
        "        if n % i == 0 or n % (i + 2) == 0:\n",
        "            return False\n",
        "        i += 6\n",
        "    return True\n",
        "\n",
        "def is_armstrong(n):\n",
        "    \"\"\"Check if a number is an Armstrong number\"\"\"\n",
        "    original_num = n\n",
        "    num_digits = len(str(n))\n",
        "    sum = 0\n",
        "    while n > 0:\n",
        "        digit = n % 10\n",
        "        sum += digit ** num_digits\n",
        "        n = n // 10\n",
        "    return original_num == sum\n",
        "\n",
        "def is_palindrome(n):\n",
        "    \"\"\"Check if a number is a palindrome\"\"\"\n",
        "    num_str = str(n)\n",
        "    return num_str == num_str[::-1]\n",
        "\n",
        "def number_identifier():\n",
        "    print(\"Number Identifier Program\")\n",
        "    print(\"-------------------------\")\n",
        "    print(\"Checks if a number is Prime, Armstrong, or Palindrome\")\n",
        "\n",
        "    try:\n",
        "        num = int(input(\"\\nEnter a positive integer: \"))\n",
        "        if num < 0:\n",
        "            print(\"Please enter a positive integer.\")\n",
        "            return\n",
        "\n",
        "        results = []\n",
        "\n",
        "        # Check for prime\n",
        "        if is_prime(num):\n",
        "            results.append(\"Prime\")\n",
        "\n",
        "        # Check for Armstrong\n",
        "        if is_armstrong(num):\n",
        "            results.append(\"Armstrong\")\n",
        "\n",
        "        # Check for palindrome\n",
        "        if is_palindrome(num):\n",
        "            results.append(\"Palindrome\")\n",
        "\n",
        "        # Display results\n",
        "        if results:\n",
        "            print(f\"\\n{num} is: {', '.join(results)}\")\n",
        "        else:\n",
        "            print(f\"\\n{num} is neither Prime, Armstrong, nor Palindrome\")\n",
        "\n",
        "    except ValueError:\n",
        "        print(\"\\nError: Please enter a valid integer.\")\n",
        "\n",
        "# Run the program\n",
        "number_identifier()\n",
        "\"\"\" Here's a Python program that checks if a number is prime, Armstrong, or palindrome\"\"\""
      ]
    },
    {
      "cell_type": "markdown",
      "id": "e6b1848e",
      "metadata": {
        "id": "e6b1848e"
      },
      "source": [
        "## The program accepts a single integer input from the user.\n",
        "It checks and identifies if the number is a:\n",
        "• Prime number: A number greater than 1 divisible only by 1 and itself.\n",
        "• Armstrong number: A number equal to the sum of its digits raised to the power of the\n",
        "number of digits.\n",
        "• Palindrome: A number that reads the same backward as forward.\n",
        "• The program displays appropriate messages for each property satisfied by the number.\n",
        "• If the number does not meet any criteria, a message is displayed stating so.\n",
        "Non-integer input is handled gracefully with an error message.\n",
        "Highlited features in this program shows that it;\n",
        "\n",
        "* Accepts two numbers as input from the user\n",
        "\n",
        "* Displays the values before and after swapping\n",
        "\n",
        "* Uses Python's tuple unpacking (num1, num2 = num2, num1) for swapping\n",
        "\n",
        "* Handles invalid input (non-numeric) with a clear error message\n",
        "\n",
        "* Swaps values without using a temporary variable and\n",
        "\n",
        "* Works with both integers and floating-point numbers"
      ]
    },
    {
      "cell_type": "markdown",
      "id": "22e2963f",
      "metadata": {
        "id": "22e2963f"
      },
      "source": [
        "##  4 The 'Fibonacci Sequence Generator'\n",
        "A Python program that generates the first n terms of the Fibonacci sequence based on user input.\n",
        "\n",
        "An appropriate error message is displayed if the input is zero or negative and The Fibonacci sequence is calculated iteratively. Non-integer input is handled with an error message."
      ]
    },
    {
      "cell_type": "code",
      "execution_count": null,
      "id": "229aac78",
      "metadata": {
        "id": "229aac78",
        "outputId": "3460a035-9691-40c1-dbeb-ef86b21b895e"
      },
      "outputs": [
        {
          "name": "stdout",
          "output_type": "stream",
          "text": [
            "Fibonacci Sequence Generator\n",
            "---------------------------\n",
            "Enter the number of terms you want to generate: 10\n",
            "\n",
            "The first 10 terms of the Fibonacci sequence are:\n",
            "0, 1, 1, 2, 3, 5, 8, 13, 21, 34\n"
          ]
        }
      ],
      "source": [
        "def generate_fibonacci():\n",
        "    print(\"Fibonacci Sequence Generator\")\n",
        "    print(\"---------------------------\")\n",
        "\n",
        "    try:\n",
        "        n = int(input(\"Enter the number of terms you want to generate: \"))\n",
        "\n",
        "        if n <= 0:\n",
        "            print(\"Error: Please enter a positive integer.\")\n",
        "            return\n",
        "\n",
        "        # Initialize the first two Fibonacci numbers\n",
        "        fib_sequence = [0, 1]\n",
        "\n",
        "        # Generate Fibonacci sequence iteratively\n",
        "        if n == 1:\n",
        "            fib_sequence = [0]\n",
        "        else:\n",
        "            for i in range(2, n):\n",
        "                next_term = fib_sequence[-1] + fib_sequence[-2]\n",
        "                fib_sequence.append(next_term)\n",
        "\n",
        "        # Display the result\n",
        "        print(f\"\\nThe first {n} terms of the Fibonacci sequence are:\")\n",
        "        print(', '.join(map(str, fib_sequence)))\n",
        "\n",
        "    except ValueError:\n",
        "        print(\"\\nError: Please enter a valid positive integer.\")\n",
        "\n",
        "# Run the program\n",
        "generate_fibonacci()"
      ]
    },
    {
      "cell_type": "code",
      "execution_count": null,
      "id": "8617fb62",
      "metadata": {
        "id": "8617fb62",
        "outputId": "72e13cbc-ed7d-465a-c409-5af6f246c3f4"
      },
      "outputs": [
        {
          "name": "stdout",
          "output_type": "stream",
          "text": [
            "Fibonacci Sequence Generator\n",
            "---------------------------\n",
            "Enter the number of terms you want to generate: 1\n",
            "\n",
            "The first 1 terms of the Fibonacci sequence are:\n",
            "0\n"
          ]
        }
      ],
      "source": [
        "###Edge case (n=1):\n",
        "generate_fibonacci()"
      ]
    },
    {
      "cell_type": "markdown",
      "id": "734c600d",
      "metadata": {
        "id": "734c600d"
      },
      "source": [
        "### Invalid input (negative number): Try a negative number (e.g. -5)"
      ]
    },
    {
      "cell_type": "code",
      "execution_count": null,
      "id": "e4e098ca",
      "metadata": {
        "id": "e4e098ca",
        "outputId": "56d85b85-9bd5-4b0b-c33b-133574e7541d"
      },
      "outputs": [
        {
          "name": "stdout",
          "output_type": "stream",
          "text": [
            "Fibonacci Sequence Generator\n",
            "---------------------------\n",
            "Enter the number of terms you want to generate: -5\n",
            "Error: Please enter a positive integer.\n"
          ]
        }
      ],
      "source": [
        "# Invalid input (negative number):\n",
        "generate_fibonacci()"
      ]
    },
    {
      "cell_type": "markdown",
      "id": "1c56575d",
      "metadata": {
        "id": "1c56575d"
      },
      "source": [
        "### Some of the features in this chunk of code includes:\n",
        "* Input Validation:\n",
        "\n",
        "* Handles non-integer input with an error message\n",
        "\n",
        "* Rejects zero or negative numbers with an appropriate message\n",
        "\n",
        "* Fibonacci Generation:\n",
        "\n",
        "* Uses iterative approach (more efficient than recursive for this task)\n",
        "\n",
        "* Correctly handles the base cases ('n=1' and 'n=2')\n",
        "\n",
        "* Generates the sequence efficiently even for larger values of n\n",
        "\n",
        "* Output Formatting:\n",
        "\n",
        "* Displays the sequence in a clean, comma-separated format\n",
        "\n",
        "* Shows the number of terms requested"
      ]
    },
    {
      "cell_type": "code",
      "source": [],
      "metadata": {
        "id": "xWqDhG-YhyZT"
      },
      "id": "xWqDhG-YhyZT",
      "execution_count": null,
      "outputs": []
    }
  ],
  "metadata": {
    "kernelspec": {
      "display_name": "Python 3 (ipykernel)",
      "language": "python",
      "name": "python3"
    },
    "language_info": {
      "codemirror_mode": {
        "name": "ipython",
        "version": 3
      },
      "file_extension": ".py",
      "mimetype": "text/x-python",
      "name": "python",
      "nbconvert_exporter": "python",
      "pygments_lexer": "ipython3",
      "version": "3.9.2"
    },
    "colab": {
      "provenance": [],
      "include_colab_link": true
    }
  },
  "nbformat": 4,
  "nbformat_minor": 5
}